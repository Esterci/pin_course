{
 "cells": [
  {
   "cell_type": "code",
   "execution_count": 14,
   "metadata": {},
   "outputs": [],
   "source": [
    "import torch as tc"
   ]
  },
  {
   "cell_type": "code",
   "execution_count": 15,
   "metadata": {},
   "outputs": [
    {
     "name": "stdout",
     "output_type": "stream",
     "text": [
      "tensor([7.5431e-35])\n"
     ]
    }
   ],
   "source": [
    "x = tc.empty(1)\n",
    "print(x)"
   ]
  },
  {
   "cell_type": "code",
   "execution_count": 16,
   "metadata": {},
   "outputs": [
    {
     "name": "stdout",
     "output_type": "stream",
     "text": [
      "tensor([7.6697e-35, 0.0000e+00, 1.1139e+12])\n"
     ]
    }
   ],
   "source": [
    "x = tc.empty(3)\n",
    "print(x)"
   ]
  },
  {
   "cell_type": "code",
   "execution_count": 17,
   "metadata": {},
   "outputs": [
    {
     "name": "stdout",
     "output_type": "stream",
     "text": [
      "tensor([[7.5351e-35, 0.0000e+00, 7.4710e-35],\n",
      "        [0.0000e+00, 8.9683e-44, 0.0000e+00],\n",
      "        [1.3452e-43, 0.0000e+00, 3.8941e-41]])\n"
     ]
    }
   ],
   "source": [
    "x = tc.empty(3, 3)\n",
    "print(x)"
   ]
  },
  {
   "cell_type": "code",
   "execution_count": 18,
   "metadata": {},
   "outputs": [
    {
     "name": "stdout",
     "output_type": "stream",
     "text": [
      "tensor([[[1.1139e+12, 4.5768e-41],\n",
      "         [7.5074e-35, 0.0000e+00],\n",
      "         [0.0000e+00, 0.0000e+00]],\n",
      "\n",
      "        [[0.0000e+00, 0.0000e+00],\n",
      "         [0.0000e+00, 0.0000e+00],\n",
      "         [7.7052e+31, 7.2148e+22]],\n",
      "\n",
      "        [[1.5766e-19, 1.0256e-08],\n",
      "         [4.1019e-08, 3.1128e+12],\n",
      "         [1.0838e-08, 1.0564e-05]]])\n"
     ]
    }
   ],
   "source": [
    "x = tc.empty(3, 3, 2)\n",
    "print(x)"
   ]
  },
  {
   "cell_type": "code",
   "execution_count": 19,
   "metadata": {},
   "outputs": [
    {
     "name": "stdout",
     "output_type": "stream",
     "text": [
      "tensor([[0.4082, 0.4590, 0.7323],\n",
      "        [0.1899, 0.7449, 0.8995],\n",
      "        [0.2669, 0.9668, 0.7359]])\n"
     ]
    }
   ],
   "source": [
    "x = tc.rand(3, 3)\n",
    "print(x)"
   ]
  },
  {
   "cell_type": "code",
   "execution_count": 20,
   "metadata": {},
   "outputs": [
    {
     "name": "stdout",
     "output_type": "stream",
     "text": [
      "tensor([[0., 0., 0.],\n",
      "        [0., 0., 0.],\n",
      "        [0., 0., 0.]])\n"
     ]
    }
   ],
   "source": [
    "x = tc.zeros(3, 3)\n",
    "print(x)"
   ]
  },
  {
   "cell_type": "code",
   "execution_count": 21,
   "metadata": {},
   "outputs": [
    {
     "name": "stdout",
     "output_type": "stream",
     "text": [
      "tensor([[1., 1., 1.],\n",
      "        [1., 1., 1.],\n",
      "        [1., 1., 1.]])\n"
     ]
    }
   ],
   "source": [
    "x = tc.ones(3, 3)\n",
    "print(x)"
   ]
  },
  {
   "cell_type": "code",
   "execution_count": 22,
   "metadata": {},
   "outputs": [
    {
     "name": "stdout",
     "output_type": "stream",
     "text": [
      "tensor([[1, 1, 1],\n",
      "        [1, 1, 1],\n",
      "        [1, 1, 1]], dtype=torch.int16)\n"
     ]
    }
   ],
   "source": [
    "x = tc.ones(3, 3, dtype=tc.int16)\n",
    "print(x)"
   ]
  },
  {
   "cell_type": "code",
   "execution_count": 24,
   "metadata": {},
   "outputs": [
    {
     "name": "stdout",
     "output_type": "stream",
     "text": [
      "tensor([2.5000, 0.1000])\n"
     ]
    }
   ],
   "source": [
    "A = [2.5, 0.1]\n",
    "x = tc.tensor(A)\n",
    "print(x)"
   ]
  },
  {
   "cell_type": "code",
   "execution_count": 27,
   "metadata": {},
   "outputs": [
    {
     "name": "stdout",
     "output_type": "stream",
     "text": [
      "tensor([[1., 1.],\n",
      "        [1., 1.]])\n",
      "tensor([[0.0905, 0.8244],\n",
      "        [0.0990, 0.1388]])\n",
      "tensor([[0.0905, 0.8244],\n",
      "        [0.0990, 0.1388]])\n",
      "tensor([[0.0905, 0.8244],\n",
      "        [0.0990, 0.1388]])\n",
      "tensor([[1.0905, 1.8244],\n",
      "        [1.0990, 1.1388]])\n",
      "tensor([[0.9095, 0.1756],\n",
      "        [0.9010, 0.8612]])\n",
      "tensor([[11.0452,  1.2131],\n",
      "        [10.1050,  7.2036]])\n"
     ]
    }
   ],
   "source": [
    "x = tc.ones(2, 2)\n",
    "y = tc.rand(2, 2)\n",
    "\n",
    "print(x)\n",
    "print(y)\n",
    "\n",
    "z = x * y\n",
    "\n",
    "print(z)\n",
    "\n",
    "z = tc.mul(x, y)\n",
    "\n",
    "print(z)\n",
    "\n",
    "z = tc.add(x, y)\n",
    "\n",
    "print(z)\n",
    "\n",
    "z = tc.sub(x, y)\n",
    "\n",
    "print(z)\n",
    "\n",
    "z = tc.div(x, y)\n",
    "\n",
    "print(z)"
   ]
  },
  {
   "cell_type": "code",
   "execution_count": 31,
   "metadata": {},
   "outputs": [
    {
     "name": "stdout",
     "output_type": "stream",
     "text": [
      "tensor([[0.0825, 0.8019, 0.4633],\n",
      "        [0.1434, 0.1692, 0.3548],\n",
      "        [0.5017, 0.0723, 0.0502],\n",
      "        [0.3941, 0.3611, 0.3092],\n",
      "        [0.7938, 0.0959, 0.1476]])\n",
      "tensor([0.0825, 0.1434, 0.5017, 0.3941, 0.7938])\n",
      "tensor([0.0825, 0.8019, 0.4633])\n"
     ]
    }
   ],
   "source": [
    "x = tc.rand(5, 3)\n",
    "print(x)"
   ]
  },
  {
   "cell_type": "code",
   "execution_count": 32,
   "metadata": {},
   "outputs": [
    {
     "name": "stdout",
     "output_type": "stream",
     "text": [
      "tensor([0.0825, 0.1434, 0.5017, 0.3941, 0.7938])\n"
     ]
    }
   ],
   "source": [
    "print(x[:, 0])"
   ]
  },
  {
   "cell_type": "code",
   "execution_count": 33,
   "metadata": {},
   "outputs": [
    {
     "name": "stdout",
     "output_type": "stream",
     "text": [
      "tensor([0.0825, 0.8019, 0.4633])\n"
     ]
    }
   ],
   "source": [
    "print(x[0, :])"
   ]
  },
  {
   "cell_type": "code",
   "execution_count": 34,
   "metadata": {},
   "outputs": [
    {
     "name": "stdout",
     "output_type": "stream",
     "text": [
      "0.08253055810928345\n"
     ]
    }
   ],
   "source": [
    "print(x[0, 0].item())"
   ]
  },
  {
   "cell_type": "code",
   "execution_count": 37,
   "metadata": {},
   "outputs": [
    {
     "name": "stdout",
     "output_type": "stream",
     "text": [
      "tensor([[0.3415, 0.4207, 0.8087, 0.0226],\n",
      "        [0.2099, 0.4521, 0.7605, 0.7816],\n",
      "        [0.1458, 0.9844, 0.1183, 0.1748],\n",
      "        [0.8024, 0.7438, 0.2740, 0.0122]])\n"
     ]
    }
   ],
   "source": [
    "x = tc.rand(4, 4)\n",
    "print(x)"
   ]
  },
  {
   "cell_type": "code",
   "execution_count": 42,
   "metadata": {},
   "outputs": [
    {
     "name": "stdout",
     "output_type": "stream",
     "text": [
      "tensor([0.3415, 0.4207, 0.8087, 0.0226, 0.2099, 0.4521, 0.7605, 0.7816, 0.1458,\n",
      "        0.9844, 0.1183, 0.1748, 0.8024, 0.7438, 0.2740, 0.0122])\n"
     ]
    }
   ],
   "source": [
    "y = x.flatten()\n",
    "print(y)"
   ]
  },
  {
   "cell_type": "code",
   "execution_count": 38,
   "metadata": {},
   "outputs": [
    {
     "name": "stdout",
     "output_type": "stream",
     "text": [
      "tensor([0.3415, 0.4207, 0.8087, 0.0226, 0.2099, 0.4521, 0.7605, 0.7816, 0.1458,\n",
      "        0.9844, 0.1183, 0.1748, 0.8024, 0.7438, 0.2740, 0.0122])\n"
     ]
    }
   ],
   "source": [
    "y = x.view(16)\n",
    "print(y)"
   ]
  },
  {
   "cell_type": "code",
   "execution_count": 39,
   "metadata": {},
   "outputs": [
    {
     "name": "stdout",
     "output_type": "stream",
     "text": [
      "tensor([[0.3415, 0.4207, 0.8087, 0.0226, 0.2099, 0.4521, 0.7605, 0.7816],\n",
      "        [0.1458, 0.9844, 0.1183, 0.1748, 0.8024, 0.7438, 0.2740, 0.0122]])\n"
     ]
    }
   ],
   "source": [
    "y = x.view(2, 8)\n",
    "print(y)"
   ]
  },
  {
   "cell_type": "code",
   "execution_count": 41,
   "metadata": {},
   "outputs": [
    {
     "name": "stdout",
     "output_type": "stream",
     "text": [
      "tensor([[0.3415, 0.4207],\n",
      "        [0.8087, 0.0226],\n",
      "        [0.2099, 0.4521],\n",
      "        [0.7605, 0.7816],\n",
      "        [0.1458, 0.9844],\n",
      "        [0.1183, 0.1748],\n",
      "        [0.8024, 0.7438],\n",
      "        [0.2740, 0.0122]])\n"
     ]
    }
   ],
   "source": [
    "y = x.view(-1, 2)\n",
    "print(y)"
   ]
  },
  {
   "cell_type": "code",
   "execution_count": null,
   "metadata": {},
   "outputs": [],
   "source": []
  }
 ],
 "metadata": {
  "kernelspec": {
   "display_name": "myenv",
   "language": "python",
   "name": "python3"
  },
  "language_info": {
   "codemirror_mode": {
    "name": "ipython",
    "version": 3
   },
   "file_extension": ".py",
   "mimetype": "text/x-python",
   "name": "python",
   "nbconvert_exporter": "python",
   "pygments_lexer": "ipython3",
   "version": "3.9.18"
  }
 },
 "nbformat": 4,
 "nbformat_minor": 2
}
