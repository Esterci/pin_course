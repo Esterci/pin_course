{
 "cells": [
  {
   "cell_type": "markdown",
   "metadata": {},
   "source": [
    "# The heat equation\n",
    "\n",
    "The heat equation is a partial differential equation that describes how the temperature of a physincal system changes over time. It is typically written as:\n",
    "\n",
    "$$\n",
    "    \\frac{\\partial u}{\\partial t} = k \\frac{\\partial u^2}{\\partial x^2}\n",
    "$$\n",
    "\n",
    "<img src=\"images/heat-rod.png\"/>"
   ]
  },
  {
   "cell_type": "code",
   "execution_count": null,
   "metadata": {},
   "outputs": [],
   "source": []
  }
 ],
 "metadata": {
  "language_info": {
   "name": "python"
  }
 },
 "nbformat": 4,
 "nbformat_minor": 2
}
